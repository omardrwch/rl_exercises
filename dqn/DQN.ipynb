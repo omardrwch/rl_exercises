{
 "cells": [
  {
   "cell_type": "markdown",
   "metadata": {},
   "source": [
    "## Colab setup"
   ]
  },
  {
   "cell_type": "code",
   "execution_count": 1,
   "metadata": {},
   "outputs": [],
   "source": [
    "!pip install gym > /dev/null 2>&1"
   ]
  },
  {
   "cell_type": "code",
   "execution_count": 2,
   "metadata": {},
   "outputs": [],
   "source": [
    "!pip install gym pyvirtualdisplay > /dev/null 2>&1\n",
    "!apt-get install -y xvfb python-opengl ffmpeg > /dev/null 2>&1"
   ]
  },
  {
   "cell_type": "code",
   "execution_count": 3,
   "metadata": {},
   "outputs": [
    {
     "name": "stdout",
     "output_type": "stream",
     "text": [
      "Requirement already up-to-date: setuptools in /home/omardrwch/miniconda3/envs/rlpython/lib/python3.7/site-packages (45.2.0.post20200210)\r\n"
     ]
    }
   ],
   "source": [
    "!apt-get update > /dev/null 2>&1\n",
    "!apt-get install cmake > /dev/null 2>&1\n",
    "!pip install --upgrade setuptools 2>&1\n",
    "!pip install ez_setup > /dev/null 2>&1"
   ]
  },
  {
   "cell_type": "markdown",
   "metadata": {},
   "source": [
    "# Deep Q-Learning (DQN)\n",
    "\n",
    "\n",
    "In DQN, the $Q$-function is parameterized by a neural network of parameters $\\theta$. The network takes as input a state $s$ and outputs $Q(s, a, \\theta)$ for all actions $a$. \n",
    "\n",
    "The network is trained in way that is similar to Fitted Q Iteration. At each time $T$, the agent has observed the transitions $(s_t, a_t, r_t, s_t')_{t=1}^T$, which are stored in a __replay buffer__.\n",
    "\n",
    "In addition to the network with parameters $\\theta$, DQN keeps another network with the same architecture and parameters $\\tilde{\\theta}$, called __target network__. \n",
    "To update the parameters $\\theta$, we sample $N$ transitions from the __replay buffer__, we define the loss \n",
    "\n",
    "$$\n",
    "L(\\theta) = \\sum_{i=1}^N [Q(s_i, a_i, \\theta) - (r_i + \\gamma\\max_{a'}Q(s'_i,a', \\tilde{\\theta}))]^2\n",
    "$$\n",
    "\n",
    "and update \n",
    "\n",
    "$$\n",
    "\\theta \\gets \\theta + \\eta \\nabla L(\\theta).\n",
    "$$\n",
    "\n",
    "\n",
    "Every $C$ iterations, the target network is updated as $\\tilde{\\theta} \\gets \\theta$. \n",
    "\n",
    "At each time $t$, DQN updates the networks as described above, selects an action according to an $\\epsilon$-greedy policy, plays the action and stores the new data in the replay buffer."
   ]
  },
  {
   "cell_type": "code",
   "execution_count": 4,
   "metadata": {},
   "outputs": [],
   "source": [
    "# Imports\n",
    "import torch\n",
    "import torch.nn as nn\n",
    "import torch.nn.functional as F\n",
    "import torch.optim as optim\n",
    "import numpy as np\n",
    "import random\n",
    "from copy import deepcopy\n",
    "\n",
    "import gym\n",
    "from gym import logger as gymlogger\n",
    "from gym.wrappers import Monitor\n",
    "gymlogger.set_level(40) #error only\n",
    "\n",
    "from pyvirtualdisplay import Display\n",
    "from IPython import display as ipythondisplay\n",
    "from IPython.display import clear_output\n",
    "from pathlib import Path\n",
    "\n",
    "import random, os.path, math, glob, csv, base64, itertools, sys\n",
    "from pprint import pprint\n",
    "\n",
    "import matplotlib\n",
    "import matplotlib.pyplot as plt\n",
    "%matplotlib inline\n",
    "import io\n",
    "from IPython.display import HTML"
   ]
  },
  {
   "cell_type": "markdown",
   "metadata": {},
   "source": [
    "## Step 1: Define the parameters"
   ]
  },
  {
   "cell_type": "code",
   "execution_count": 5,
   "metadata": {},
   "outputs": [],
   "source": [
    "# Environment\n",
    "env = gym.make(\"CartPole-v0\")\n",
    "\n",
    "# Discount factor\n",
    "GAMMA = 0.99\n",
    "\n",
    "# Batch size\n",
    "BATCH_SIZE = 256\n",
    "# Capacity of the replay buffer\n",
    "BUFFER_CAPACITY = 10000\n",
    "# Update target net every ... episodes\n",
    "UPDATE_TARGET_EVERY = 20\n",
    "\n",
    "# Initial value of epsilon\n",
    "EPSILON_START = 1.0\n",
    "# Parameter to decrease epsilon\n",
    "DECREASE_EPSILON = 200\n",
    "# Minimum value of epislon\n",
    "EPSILON_MIN = 0.05\n",
    "\n",
    "# Number of training episodes\n",
    "N_EPISODES = 200\n",
    "\n",
    "# Learning rate\n",
    "LEARNING_RATE = 0.1"
   ]
  },
  {
   "cell_type": "markdown",
   "metadata": {},
   "source": [
    "## Step 2: Define the replay buffer"
   ]
  },
  {
   "cell_type": "code",
   "execution_count": 6,
   "metadata": {},
   "outputs": [],
   "source": [
    "class ReplayBuffer:\n",
    "    def __init__(self, capacity):\n",
    "        self.capacity = capacity\n",
    "        self.memory = []\n",
    "        self.position = 0\n",
    "\n",
    "    def push(self, state, action, reward, next_state):\n",
    "        \"\"\"Saves a transition.\"\"\"\n",
    "        if len(self.memory) < self.capacity:\n",
    "            self.memory.append(None)\n",
    "        self.memory[self.position] = (state, action, reward, next_state)\n",
    "        self.position = (self.position + 1) % self.capacity\n",
    "\n",
    "    def sample(self, batch_size):\n",
    "        return random.sample(self.memory, batch_size)\n",
    "\n",
    "    def __len__(self):\n",
    "        return len(self.memory)"
   ]
  },
  {
   "cell_type": "code",
   "execution_count": 7,
   "metadata": {},
   "outputs": [],
   "source": [
    "# create instance of replay buffer\n",
    "replay_buffer = ReplayBuffer(BUFFER_CAPACITY)"
   ]
  },
  {
   "cell_type": "markdown",
   "metadata": {},
   "source": [
    "## Step 3: Define the neural network architecture, objective and optimizer"
   ]
  },
  {
   "cell_type": "code",
   "execution_count": 8,
   "metadata": {},
   "outputs": [],
   "source": [
    "class Net(nn.Module):\n",
    "    \"\"\"\n",
    "    Basic neural net.\n",
    "    \"\"\"\n",
    "    def __init__(self, obs_size, hidden_size, n_actions):\n",
    "        super(Net, self).__init__()\n",
    "        self.net = nn.Sequential(\n",
    "            nn.Linear(obs_size, hidden_size),\n",
    "            nn.ReLU(),\n",
    "            nn.Linear(hidden_size, n_actions)\n",
    "        )\n",
    "\n",
    "    def forward(self, x):\n",
    "        return self.net(x)"
   ]
  },
  {
   "cell_type": "code",
   "execution_count": 9,
   "metadata": {},
   "outputs": [],
   "source": [
    "# create network and target network\n",
    "hidden_size = 128\n",
    "obs_size = env.observation_space.shape[0]\n",
    "n_actions = env.action_space.n\n",
    "\n",
    "q_net = Net(obs_size, hidden_size, n_actions)\n",
    "target_net = Net(obs_size, hidden_size, n_actions)\n",
    "\n",
    "# objective and optimizer\n",
    "objective = nn.MSELoss()\n",
    "optimizer = optim.Adam(params=q_net.parameters(), lr=LEARNING_RATE)"
   ]
  },
  {
   "cell_type": "markdown",
   "metadata": {},
   "source": [
    "## Step 4: Implement DQN"
   ]
  },
  {
   "cell_type": "code",
   "execution_count": 10,
   "metadata": {},
   "outputs": [],
   "source": [
    "#\n",
    "#  Some useful functions\n",
    "#\n",
    "\n",
    "def get_q(states):\n",
    "    \"\"\"\n",
    "    Compute Q function for a list of states\n",
    "    \"\"\"\n",
    "    with torch.no_grad():\n",
    "        states_v = torch.FloatTensor([states])\n",
    "        output = q_net.forward(states_v).data.numpy()  # shape (1, len(states), n_actions)\n",
    "    return output[0, :, :]  # shape (len(states), n_actions)\n",
    "\n",
    "def eval_dqn(n_sim=5):\n",
    "    \"\"\"\n",
    "    TO BE IMPLEMENTED\n",
    "    \n",
    "    Monte Carlo evaluation of DQN agent.\n",
    "    \"\"\"\n",
    "    env_copy = deepcopy(env)\n",
    "    rewards = np.zeros(n_sim)\n",
    "    return rewards"
   ]
  },
  {
   "cell_type": "code",
   "execution_count": 11,
   "metadata": {},
   "outputs": [],
   "source": [
    "def choose_action(state, epsilon):\n",
    "    \"\"\"\n",
    "    TO BE IMPLEMENTED\n",
    "    \n",
    "    Return action according to an epsilon-greedy exploration policy\n",
    "    \"\"\"\n",
    "    return 0\n",
    "    \n",
    "\n",
    "def update(state, action, reward, next_state, done):\n",
    "    \"\"\"\n",
    "    TO BE COMPLETED\n",
    "    \"\"\"\n",
    "    \n",
    "    # add data to replay buffer\n",
    "    if done:\n",
    "        next_state = None\n",
    "    replay_buffer.push(state, action, reward, next_state)\n",
    "    \n",
    "    if len(replay_buffer) < BATCH_SIZE:\n",
    "        return np.inf\n",
    "    \n",
    "    # get batch\n",
    "    transitions = replay_buffer.sample(BATCH_SIZE)\n",
    "    \n",
    "    # Compute loss - TO BE IMPLEMENTED!\n",
    "    values  = torch.zeros(BATCH_SIZE)   # to be computed using batch\n",
    "    targets = torch.zeros(BATCH_SIZE)   # to be computed using batch\n",
    "    loss = objective(values, targets)\n",
    "     \n",
    "    # Optimize the model - UNCOMMENT!\n",
    "#     optimizer.zero_grad()\n",
    "#     loss.backward()\n",
    "#     optimizer.step()\n",
    "    \n",
    "    return loss.data.numpy()"
   ]
  },
  {
   "cell_type": "code",
   "execution_count": 12,
   "metadata": {},
   "outputs": [
    {
     "name": "stdout",
     "output_type": "stream",
     "text": [
      "episode = 5 , reward =  0.0\n",
      "episode = 10 , reward =  0.0\n",
      "episode = 15 , reward =  0.0\n",
      "episode = 20 , reward =  0.0\n",
      "episode = 25 , reward =  0.0\n",
      "episode = 30 , reward =  0.0\n",
      "episode = 35 , reward =  0.0\n",
      "episode = 40 , reward =  0.0\n",
      "episode = 45 , reward =  0.0\n",
      "episode = 50 , reward =  0.0\n",
      "episode = 55 , reward =  0.0\n",
      "episode = 60 , reward =  0.0\n",
      "episode = 65 , reward =  0.0\n",
      "episode = 70 , reward =  0.0\n",
      "episode = 75 , reward =  0.0\n",
      "episode = 80 , reward =  0.0\n",
      "episode = 85 , reward =  0.0\n",
      "episode = 90 , reward =  0.0\n",
      "episode = 95 , reward =  0.0\n",
      "episode = 100 , reward =  0.0\n",
      "episode = 105 , reward =  0.0\n",
      "episode = 110 , reward =  0.0\n",
      "episode = 115 , reward =  0.0\n",
      "episode = 120 , reward =  0.0\n",
      "episode = 125 , reward =  0.0\n",
      "episode = 130 , reward =  0.0\n",
      "episode = 135 , reward =  0.0\n",
      "episode = 140 , reward =  0.0\n",
      "episode = 145 , reward =  0.0\n",
      "episode = 150 , reward =  0.0\n",
      "episode = 155 , reward =  0.0\n",
      "episode = 160 , reward =  0.0\n",
      "episode = 165 , reward =  0.0\n",
      "episode = 170 , reward =  0.0\n",
      "episode = 175 , reward =  0.0\n",
      "episode = 180 , reward =  0.0\n",
      "episode = 185 , reward =  0.0\n",
      "episode = 190 , reward =  0.0\n",
      "episode = 195 , reward =  0.0\n",
      "episode = 200 , reward =  0.0\n",
      "\n",
      "mean reward after training =  0.0\n"
     ]
    }
   ],
   "source": [
    "#\n",
    "# Train\n",
    "# \n",
    "\n",
    "EVAL_EVERY = 5\n",
    "REWARD_THRESHOLD = 199\n",
    "\n",
    "def train():\n",
    "    state = env.reset()\n",
    "    epsilon = EPSILON_START\n",
    "    ep = 0\n",
    "    total_time = 0\n",
    "    while ep < N_EPISODES:\n",
    "        action = choose_action(state, epsilon)\n",
    "\n",
    "        # take action and update replay buffer and networks\n",
    "        next_state, reward, done, _ = env.step(action)\n",
    "        loss = update(state, action, reward, next_state, done)\n",
    "\n",
    "        # update state\n",
    "        state = next_state\n",
    "\n",
    "        # end episode if done\n",
    "        if done:\n",
    "            state = env.reset()\n",
    "            ep   += 1\n",
    "            if ( (ep+1)% EVAL_EVERY == 0):\n",
    "                rewards = eval_dqn()\n",
    "                print(\"episode =\", ep+1, \", reward = \", np.mean(rewards))\n",
    "                if np.mean(rewards) >= REWARD_THRESHOLD:\n",
    "                    break\n",
    "\n",
    "            # update target network\n",
    "            if ep % UPDATE_TARGET_EVERY == 0:\n",
    "                target_net.load_state_dict(q_net.state_dict())\n",
    "            # decrease epsilon\n",
    "            epsilon = EPSILON_MIN + (EPSILON_START - EPSILON_MIN) * \\\n",
    "                            np.exp(-1. * ep / DECREASE_EPSILON )    \n",
    "\n",
    "        total_time += 1\n",
    "\n",
    "train()\n",
    "rewards = eval_dqn(20)\n",
    "print(\"\")\n",
    "print(\"mean reward after training = \", np.mean(rewards))"
   ]
  },
  {
   "cell_type": "markdown",
   "metadata": {},
   "source": [
    "## Visualizing the agent"
   ]
  },
  {
   "cell_type": "code",
   "execution_count": 13,
   "metadata": {},
   "outputs": [
    {
     "data": {
      "text/plain": [
       "<Display cmd_param=['Xvfb', '-br', '-nolisten', 'tcp', '-screen', '0', '1400x900x24', ':1028'] cmd=['Xvfb', '-br', '-nolisten', 'tcp', '-screen', '0', '1400x900x24', ':1028'] oserror=None return_code=None stdout=\"None\" stderr=\"None\" timeout_happened=False>"
      ]
     },
     "execution_count": 13,
     "metadata": {},
     "output_type": "execute_result"
    }
   ],
   "source": [
    "def show_video(directory):\n",
    "    html = []\n",
    "    for mp4 in Path(directory).glob(\"*.mp4\"):\n",
    "        video_b64 = base64.b64encode(mp4.read_bytes())\n",
    "        html.append('''<video alt=\"{}\" autoplay \n",
    "                      loop controls style=\"height: 400px;\">\n",
    "                      <source src=\"data:video/mp4;base64,{}\" type=\"video/mp4\" />\n",
    "                 </video>'''.format(mp4, video_b64.decode('ascii')))\n",
    "    ipythondisplay.display(ipythondisplay.HTML(data=\"<br>\".join(html)))\n",
    "    \n",
    "def make_seed(seed):\n",
    "    np.random.seed(seed=seed)\n",
    "    torch.manual_seed(seed=seed)\n",
    "  \n",
    "from pyvirtualdisplay import Display\n",
    "display = Display(visible=0, size=(1400, 900))\n",
    "display.start()"
   ]
  },
  {
   "cell_type": "code",
   "execution_count": 14,
   "metadata": {},
   "outputs": [
    {
     "data": {
      "text/html": [
       "<video alt=\"gym-results/openaigym.video.0.10631.video000000.mp4\" autoplay \n",
       "                      loop controls style=\"height: 400px;\">\n",
       "                      <source src=\"data:video/mp4;base64,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\" type=\"video/mp4\" />\n",
       "                 </video>"
      ],
      "text/plain": [
       "<IPython.core.display.HTML object>"
      ]
     },
     "metadata": {},
     "output_type": "display_data"
    }
   ],
   "source": [
    "env = Monitor(env, \"./gym-results\", force=True, video_callable=lambda episode: True)\n",
    "for episode in range(1):\n",
    "    done = False\n",
    "    state = env.reset()\n",
    "    while not done:\n",
    "        action = env.action_space.sample() # MODIFY THIS PART TO COMPUTE THE ACTION WITH DQN\n",
    "        state, reward, done, info = env.step(action)\n",
    "env.close()\n",
    "show_video(\"./gym-results\")"
   ]
  }
 ],
 "metadata": {
  "kernelspec": {
   "display_name": "Python 3",
   "language": "python",
   "name": "python3"
  },
  "language_info": {
   "codemirror_mode": {
    "name": "ipython",
    "version": 3
   },
   "file_extension": ".py",
   "mimetype": "text/x-python",
   "name": "python",
   "nbconvert_exporter": "python",
   "pygments_lexer": "ipython3",
   "version": "3.7.6"
  }
 },
 "nbformat": 4,
 "nbformat_minor": 4
}
